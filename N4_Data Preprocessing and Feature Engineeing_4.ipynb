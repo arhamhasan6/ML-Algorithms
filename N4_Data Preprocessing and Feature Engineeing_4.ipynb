{
 "cells": [
  {
   "cell_type": "markdown",
   "metadata": {},
   "source": [
    "# DATA VISULAIZATION EXERCISE"
   ]
  },
  {
   "cell_type": "markdown",
   "metadata": {},
   "source": [
    "# Imports"
   ]
  },
  {
   "cell_type": "code",
   "execution_count": null,
   "metadata": {},
   "outputs": [],
   "source": [
    "import pandas as pd\n",
    "import numpy as np\n",
    "import matplotlib.pyplot as plt\n",
    "import seaborn as sns\n",
    "from sklearn.datasets import load_boston"
   ]
  },
  {
   "cell_type": "markdown",
   "metadata": {},
   "source": [
    "# Problem: The Boston House Pricing"
   ]
  },
  {
   "cell_type": "markdown",
   "metadata": {},
   "source": [
    "## Dataset Description\n",
    "\n",
    "Scikit-learn toy datasets: scikit-learn package of Python comes with a few small standard datasets that do not require to download any file from some external website.\n",
    "https://scikit-learn.org/stable/datasets/toy_dataset.html\n",
    "\n",
    "This Boston House Pricingdata has been taken from a reaserch paper, which can be found at \n",
    "[Source: Original research paper](https://deepblue.lib.umich.edu/bitstream/handle/2027.42/22636/0000186.pdf?sequence=1&isAllowed=y)"
   ]
  },
  {
   "cell_type": "markdown",
   "metadata": {},
   "source": [
    "## Loading Data"
   ]
  },
  {
   "cell_type": "code",
   "execution_count": null,
   "metadata": {},
   "outputs": [],
   "source": [
    "#loading the dataset from sklearn.\n",
    "boston_dataset = load_boston()\n",
    "print(boston_dataset.DESCR)"
   ]
  },
  {
   "cell_type": "markdown",
   "metadata": {},
   "source": [
    "## Creating Dataframe"
   ]
  },
  {
   "cell_type": "code",
   "execution_count": null,
   "metadata": {},
   "outputs": [],
   "source": [
    "#Let us create a dataframe from the two ndarrays 'data' and 'target' from boston_dataset.\n",
    "dataset = pd.DataFrame(data=boston_dataset.data, columns=boston_dataset.feature_names)\n",
    "#Add column with the price (target).\n",
    "dataset['PRICE'] = boston_dataset.target\n",
    "#let's see the dataframe we have created.\n",
    "dataset"
   ]
  },
  {
   "cell_type": "markdown",
   "metadata": {},
   "source": [
    "## Visualising Data - Histograms and Distributions"
   ]
  },
  {
   "cell_type": "code",
   "execution_count": null,
   "metadata": {},
   "outputs": [],
   "source": [
    "#Let us draw histograms for different features. \n",
    "#Recall that a histigram is a plot of frequencies of different values in a feature against these values. \n",
    "#We will use method hist of the package matplotlib for this purpose.\n",
    "\n",
    "#Let us first see the distribution of the target, which is the house price.\n",
    "plt.figure(figsize=(10, 6))\n",
    "plt.hist(dataset['PRICE'], bins=50, ec='black', color='#2196f3')\n",
    "#Here we randomly selected 50 bins, price is a continuous variable here. \n",
    "#You can use the method dataset['PRICE'].value_counts() to see the distinct values in this column.\n",
    "#This attribute bin can also be skipped, in that case matplotlib selects an appropriate number of bins by itself.\n",
    "plt.xlabel('Price in $1000s')\n",
    "plt.ylabel('Nr. of Houses')\n",
    "plt.show()"
   ]
  },
  {
   "cell_type": "code",
   "execution_count": null,
   "metadata": {},
   "outputs": [],
   "source": [
    "#Now let us see distribution of RM which is the avarage number of rooms in the area.\n",
    "#This again is a continuous variables. We are not specifying number of  bins here, letting matplotlib decide for itself.\n",
    "plt.figure(figsize=(10, 6))\n",
    "plt.hist(dataset['RM'], ec='black', color='#00796b')\n",
    "plt.xlabel('Average Number of Rooms')\n",
    "plt.ylabel('Nr. of Houses')\n",
    "plt.show()"
   ]
  },
  {
   "cell_type": "code",
   "execution_count": null,
   "metadata": {},
   "outputs": [],
   "source": [
    "#Now let us see distribution of RAD which indicates the index of accessibilty to highways.\n",
    "plt.figure(figsize=(10, 6))\n",
    "plt.hist(dataset['RAD'], bins=24, ec='black', color='#7b1fa2', rwidth=0.5)\n",
    "plt.xlabel('Accessibility to Highways')\n",
    "plt.ylabel('Nr. of Houses')\n",
    "plt.show()"
   ]
  },
  {
   "cell_type": "code",
   "execution_count": null,
   "metadata": {},
   "outputs": [],
   "source": [
    "#TASK FOR YOU\n",
    "dataset['CHAS'].value_counts()\n",
    "#Run the above statement and then plot histogram for this feature CHAS which shows if the house is situated near Charle' River."
   ]
  },
  {
   "cell_type": "markdown",
   "metadata": {},
   "source": [
    "## Correlation\n",
    "\n",
    "## $$ \\rho _{XY} = corr(X,Y)$$\n",
    "## $$ -1.0 \\leq \\rho _{XY} \\leq +1.0 $$"
   ]
  },
  {
   "cell_type": "code",
   "execution_count": null,
   "metadata": {},
   "outputs": [],
   "source": [
    "#corr is the method in pandas which can directly find correlation between two quantities.\n",
    "#Let us find the correlation between PRICE (target) and RM (feature).\n",
    "dataset['PRICE'].corr(dataset['RM'])\n",
    "#The resulting value shows moderate positive correlation"
   ]
  },
  {
   "cell_type": "code",
   "execution_count": null,
   "metadata": {},
   "outputs": [],
   "source": [
    "#Similarly let us find the correlation between PRICE (target) and PTRATIO (feature).\n",
    "dataset['PRICE'].corr(dataset['PTRATIO'])\n",
    "#This shows moderate negavtive correlation"
   ]
  },
  {
   "cell_type": "code",
   "execution_count": null,
   "metadata": {},
   "outputs": [],
   "source": [
    "#Now let us find all correlation coefficients at once\n",
    "dataset.corr()\n",
    "#Here observe that correlation between INDUS and DIS is quite high and may cause multicollinearity.\n",
    "#Also note that the values are same both ways, i.e. ZN and CRIME is same as CRIME and ZN.\n",
    "#So upper right diagonal is same as lower left diagonal.\n",
    "#Also note that correlation of a variable with itself is always 1.\n",
    "\n",
    "#Notice that finding higher values in this dense map is difficult, there is an easier way to do this - by using a heatmap."
   ]
  },
  {
   "cell_type": "code",
   "execution_count": null,
   "metadata": {},
   "outputs": [],
   "source": [
    "#A heatmap is a graphical representation of data that uses a system of color-coding to represent different values. \n",
    "#The color bar on the right side is the key.\n",
    "\n",
    "#Generating a heatmap for all correlation coefficients. \n",
    "plt.figure(figsize=(16,10))\n",
    "sns.heatmap(dataset.corr(),  annot=True, annot_kws={\"size\": 14})\n",
    "sns.set_style('white')\n",
    "plt.xticks(fontsize=14)\n",
    "plt.yticks(fontsize=14)\n",
    "plt.show()"
   ]
  },
  {
   "cell_type": "markdown",
   "metadata": {},
   "source": [
    "### Visualizing Correlation Through Scatter Plot"
   ]
  },
  {
   "cell_type": "code",
   "execution_count": null,
   "metadata": {},
   "outputs": [],
   "source": [
    "#Let us create scatterplot between NOX and DIS to visualize correlation.\n",
    "\n",
    "#Let us print the correlation found from corr method too in the heading to verify the results.\n",
    "nox_dis_corr = round(dataset['NOX'].corr(dataset['DIS']), 3)\n",
    "\n",
    "plt.figure(figsize=(6, 4), dpi=300)\n",
    "plt.scatter(x=dataset['DIS'], y=dataset['NOX'], alpha=0.6, s=80, color='lightgreen')\n",
    "plt.title(f'DIS vs NOX (Correlation {nox_dis_corr})', fontsize=14)\n",
    "plt.xlabel('DIS - Distance from employment', fontsize=14)\n",
    "plt.ylabel('NOX - Nitric Oxide Pollution', fontsize=14)\n",
    "plt.show()\n",
    "#The plot shows quite strong neagtive correlation between the two features."
   ]
  },
  {
   "cell_type": "code",
   "execution_count": null,
   "metadata": {},
   "outputs": [],
   "source": [
    "#Another scatter plot between RM and PRICE.\n",
    "rm_tgt_corr = round(dataset['RM'].corr(dataset['PRICE']), 3)\n",
    "plt.figure(figsize=(9, 6))\n",
    "plt.scatter(x=dataset['RM'], y=dataset['PRICE'], alpha=0.6, s=80, color='skyblue')\n",
    "plt.title(f'RM vs PRICE (Correlation {rm_tgt_corr})', fontsize=14)\n",
    "plt.xlabel('RM - Median nr of rooms', fontsize=14)\n",
    "plt.ylabel('PRICE - property price in $1000s', fontsize=14)\n",
    "plt.show()"
   ]
  },
  {
   "cell_type": "markdown",
   "metadata": {},
   "source": [
    "### The PairPlot\n",
    "- This is a method of seaborn package, which can be used to see all the scatterplots as well as histograms at once.\n",
    "- The diagonal plots are histograms."
   ]
  },
  {
   "cell_type": "code",
   "execution_count": null,
   "metadata": {},
   "outputs": [],
   "source": [
    "%%time \n",
    "#This time is a magic function of notebook, used to find the execution time of a piece of code.\n",
    "#Since generation of pairplot will take some time, let us measure it using this magic function.\n",
    "#It will print the wall time in the end.\n",
    "\n",
    "#Generating pairplot - all correlation plots at once\n",
    "sns.pairplot(dataset)\n",
    "plt.show()"
   ]
  },
  {
   "cell_type": "code",
   "execution_count": null,
   "metadata": {},
   "outputs": [],
   "source": []
  },
  {
   "cell_type": "code",
   "execution_count": null,
   "metadata": {},
   "outputs": [],
   "source": []
  },
  {
   "cell_type": "code",
   "execution_count": null,
   "metadata": {},
   "outputs": [],
   "source": []
  }
 ],
 "metadata": {
  "kernelspec": {
   "display_name": "Python 3 (ipykernel)",
   "language": "python",
   "name": "python3"
  },
  "language_info": {
   "codemirror_mode": {
    "name": "ipython",
    "version": 3
   },
   "file_extension": ".py",
   "mimetype": "text/x-python",
   "name": "python",
   "nbconvert_exporter": "python",
   "pygments_lexer": "ipython3",
   "version": "3.11.2"
  }
 },
 "nbformat": 4,
 "nbformat_minor": 4
}
